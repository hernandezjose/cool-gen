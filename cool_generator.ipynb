{
 "cells": [
  {
   "cell_type": "code",
   "execution_count": 62,
   "metadata": {
    "collapsed": true
   },
   "outputs": [],
   "source": [
    "import random"
   ]
  },
  {
   "cell_type": "code",
   "execution_count": 87,
   "metadata": {
    "collapsed": false
   },
   "outputs": [],
   "source": [
    "class Class(object):\n",
    "    def __init__(self, name, parent_class):\n",
    "        self.name = name\n",
    "        self.parent = parent_class\n",
    "        \n",
    "        # default initializations\n",
    "        self.attributes = None\n",
    "        self.basic = False\n",
    "        self.functions = None\n",
    "        self.inheritable = True\n",
    "\n",
    "    def gen_attributes(self, classes):\n",
    "        self.gen_attr_signatures(classes)\n",
    "        self.gen_attr_expressions(classes)\n",
    "        \n",
    "    def gen_attr_signatures(self, classes):\n",
    "        if self.basic == True: \n",
    "            print \"error: not allowed to change basic classes\"\n",
    "            return None\n",
    "        self.attributes = {'self': None}\n",
    "    \n",
    "    def gen_attr_expressions(self, classes, expr_factory):\n",
    "        for attr in self.attributes:\n",
    "            if self.attributes[attr] == None:\n",
    "                self.attributes[attr] = expr_factory.gen_expression(self)\n",
    "        \n",
    "    def gen_functions(self, classes):\n",
    "        self.gen_func_signatures(classes)\n",
    "        self.gen_func_expressions(classes)\n",
    "\n",
    "    def gen_func_signatures(self, classes):\n",
    "        if self.basic == True:\n",
    "            print \"error: not allowed to change basic classes\"\n",
    "            return None\n",
    "        self.functions = list()\n",
    "        return None\n",
    "    \n",
    "    def gen_func_expressions(self, classes):\n",
    "        if self.attributes == None:\n",
    "            print \"error: must initialize attributes before function expressions\"\n",
    "            return None\n",
    "        for func in self.functions:\n",
    "            if func.expr != None: # don't overwrite a defined class-specific method\n",
    "                continue \n",
    "            self.func.expr = expr_factory.gen_expression(self)\n",
    "\n",
    "class Expression(object):\n",
    "    def __init__(self, init=None):\n",
    "        if init == None:\n",
    "            # TODO: do something\n",
    "            self.expr_type = 'Object'\n",
    "            self.expr_terms = ['void']\n",
    "        else:\n",
    "            self.expr_type = init[0]\n",
    "            self.expr_terms = [init[1]]\n",
    "\n",
    "    def print_expr(self):\n",
    "        return ' '.join(self.expr_terms)\n",
    "    \n",
    "class Function(object):\n",
    "    def __init__(self, name, return_type, args=list(), expr=Expression()):\n",
    "        self.return_type = return_type\n",
    "        self.name = name\n",
    "        self.args = args\n",
    "        self.expr = expr\n",
    "    \n",
    "    def gen_function(classes):\n",
    "        return None"
   ]
  },
  {
   "cell_type": "code",
   "execution_count": 91,
   "metadata": {
    "collapsed": false
   },
   "outputs": [],
   "source": [
    "class Object(Class):\n",
    "    def __init__(self):\n",
    "        self.name = 'Object'\n",
    "        self.parent = None\n",
    "        self.attributes = {'self': Expression(('SELF_TYPE','void'))}\n",
    "        self.basic = True\n",
    "        self.functions = {\n",
    "            Function('abort', 'Object'),\n",
    "            Function('type_name', 'String'), \n",
    "            Function('copy', 'SELF_TYPE')} \n",
    "        self.inheritable = True\n",
    "\n",
    "class IO(Class):\n",
    "    def __init__(self, parent_class=Object()):\n",
    "        self.name = 'IO'\n",
    "        self.parent = parent_class\n",
    "        self.attributes = {'self': Expression(('SELF_TYPE','void'))}\n",
    "        self.basic = True\n",
    "        self.functions = {\n",
    "            Function('out_string', 'SELF_TYPE', [('x', 'String')]),\n",
    "            Function('out_int', 'SELF_TYPE', [('x', 'Int')]),\n",
    "            Function('in_string', 'String'),\n",
    "            Function('in_int', 'Int')} \n",
    "        self.inheritable = True\n",
    "\n",
    "class Int(Class):\n",
    "    def __init__(self, parent_class=Object()):\n",
    "        self.name = 'Int'\n",
    "        self.parent = parent_class\n",
    "        self.attributes = {'self': Expression(('SELF_TYPE','0'))} # default value = 0\n",
    "        self.basic = True\n",
    "        self.functions = list()\n",
    "        self.inheritable = False\n",
    "\n",
    "class String(Class):\n",
    "    def __init__(self, parent_class=Object()):\n",
    "        self.name = 'String'\n",
    "        self.parent = parent_class\n",
    "        self.attributes = {'self': Expression(('SELF_TYPE',''))} # default value = empty string\n",
    "        self.basic = True\n",
    "        self.functions = {\n",
    "            Function('length', 'Int'),\n",
    "            Function('concat', 'String', [('x', 'String')]),\n",
    "            Function('substr', 'String', [('i', 'Int'), ('l', 'Int')])}\n",
    "        self.inheritable = False\n",
    "\n",
    "class Bool(Class):\n",
    "    def __init__(self, parent_class=Object()):\n",
    "        self.name = 'Bool'\n",
    "        self.parent = parent_class\n",
    "        self.attributes = {'self': Expression(('SELF_TYPE','false'))} # default value = false\n",
    "        self.basic = True\n",
    "        self.functions = list()\n",
    "        self.inheritable = False"
   ]
  },
  {
   "cell_type": "code",
   "execution_count": 74,
   "metadata": {
    "collapsed": true
   },
   "outputs": [],
   "source": [
    "class Expression_factory(object):\n",
    "    def __init__(self, classes):\n",
    "        self.classes = classes\n",
    "        \n",
    "    def gen_expression(self, variables,):\n",
    "        return Expression()\n",
    "\n",
    "class Class_factory(object):\n",
    "    def __init__(self):\n",
    "        self.classes = list()\n",
    "        self.expr_factory = None\n",
    "        \n",
    "        # initialize the \n",
    "        self.init_basic_classes()\n",
    "        self.gen_class_prob = 0.0\n",
    "\n",
    "    def init_basic_classes(self):\n",
    "        root_class = Object()\n",
    "        basic_classes = [root_class, IO(root_class), Int(root_class), String(root_class), Bool(root_class)]\n",
    "        self.classes.extend(basic_classes)\n",
    "    \n",
    "    def gen_classes(self):\n",
    "        # 'flip a coin' and create a class when heads/true\n",
    "        while random.random() < self.gen_class_prob:\n",
    "            name = gen_unique_name()\n",
    "            parent_class = random.choice(self.classes)\n",
    "            self.classes.append(Class(name, parent_class))\n",
    "    \n",
    "        # initialize expression factory\n",
    "        self.expr_factory = Expression_factory(self.classes)\n",
    "            \n",
    "        # initialize in order: prototypes => definitions\n",
    "        # because it allows for attribute initializations and func definitions \n",
    "        # to use other attributes, functions (maybe recursion), which makes things \n",
    "        # things trickier\n",
    "        for c in self.classes:\n",
    "            c.gen_func_signatures(self.classes)\n",
    "            c.gen_attr_signatures(self.classes)\n",
    "        for c in self.classes:\n",
    "            c.gen_func_signatures(self.classes, self.expr_factory)\n",
    "            c.gen_attr_signatures(self.classes, self.expr_factory)"
   ]
  },
  {
   "cell_type": "code",
   "execution_count": 75,
   "metadata": {
    "collapsed": false
   },
   "outputs": [],
   "source": [
    "class_factory = Class_factory()"
   ]
  },
  {
   "cell_type": "code",
   "execution_count": 85,
   "metadata": {
    "collapsed": false
   },
   "outputs": [
    {
     "data": {
      "text/plain": [
       "{'length': <__main__.Function at 0x103bb4a50>}"
      ]
     },
     "execution_count": 85,
     "metadata": {},
     "output_type": "execute_result"
    }
   ],
   "source": [
    "class_factory.classes[3].functions"
   ]
  },
  {
   "cell_type": "code",
   "execution_count": null,
   "metadata": {
    "collapsed": true
   },
   "outputs": [],
   "source": []
  }
 ],
 "metadata": {
  "kernelspec": {
   "display_name": "Python 2",
   "language": "python",
   "name": "python2"
  },
  "language_info": {
   "codemirror_mode": {
    "name": "ipython",
    "version": 2
   },
   "file_extension": ".py",
   "mimetype": "text/x-python",
   "name": "python",
   "nbconvert_exporter": "python",
   "pygments_lexer": "ipython2",
   "version": "2.7.11"
  }
 },
 "nbformat": 4,
 "nbformat_minor": 0
}
